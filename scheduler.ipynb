{
 "cells": [
  {
   "cell_type": "markdown",
   "metadata": {},
   "source": [
    "SchedulerAI"
   ]
  },
  {
   "cell_type": "code",
   "execution_count": null,
   "metadata": {},
   "outputs": [],
   "source": [
    "%pip install langchain"
   ]
  },
  {
   "cell_type": "code",
   "execution_count": null,
   "metadata": {},
   "outputs": [],
   "source": [
    "%pip install replicate"
   ]
  },
  {
   "cell_type": "code",
   "execution_count": null,
   "metadata": {},
   "outputs": [],
   "source": [
    "%pip install gcsa"
   ]
  },
  {
   "cell_type": "markdown",
   "metadata": {},
   "source": [
    "Get Replicate API key and save to env variables"
   ]
  },
  {
   "cell_type": "code",
   "execution_count": 5,
   "metadata": {},
   "outputs": [],
   "source": [
    "from getpass import getpass\n",
    "\n",
    "REPLICATE_API_TOKEN = getpass()"
   ]
  },
  {
   "cell_type": "code",
   "execution_count": 6,
   "metadata": {},
   "outputs": [],
   "source": [
    "import os\n",
    "\n",
    "open = os.environ[\"REPLICATE_API_TOKEN\"] = REPLICATE_API_TOKEN"
   ]
  },
  {
   "cell_type": "markdown",
   "metadata": {},
   "source": [
    "Import modules"
   ]
  },
  {
   "cell_type": "code",
   "execution_count": 7,
   "metadata": {},
   "outputs": [],
   "source": [
    "from langchain_community.llms import Replicate\n",
    "from datetime import datetime"
   ]
  },
  {
   "cell_type": "markdown",
   "metadata": {},
   "source": [
    "Define LLM"
   ]
  },
  {
   "cell_type": "code",
   "execution_count": 10,
   "metadata": {},
   "outputs": [],
   "source": [
    "llm = Replicate(\n",
    "    model=\"meta/meta-llama-3-70b-instruct\",\n",
    ")"
   ]
  },
  {
   "cell_type": "markdown",
   "metadata": {},
   "source": [
    "-----"
   ]
  },
  {
   "cell_type": "markdown",
   "metadata": {},
   "source": [
    "This function takes a text input, prompts for a date and two appointment times, and returns them in a specific format: 'date old_appointment_time new_appointment_time', using today's date as default."
   ]
  },
  {
   "cell_type": "code",
   "execution_count": 13,
   "metadata": {},
   "outputs": [],
   "source": [
    "def get_date_time(text):\n",
    "    dt=datetime.date(datetime.now())\n",
    "    print(dt)\n",
    "    prompt = \"Get the appointment date in format 'YYYY-MM-DD, get the new appointment time in format 'Hours:Mins' and 24 hour format, get the old appointment time in format 'Hours:Mins' and 24 hour format. If there is no old appointment time then old appointment time is new appointment time. Return only the answer in the format 'date old_appointment_time new_appointment_time'.Do not add any conversation to your answer. For reference, a sample answer is '2024-04-27 13:30 15:00'. The text is\"+text+\".The date right now is\"+str(dt)+\". Default date is today\"\n",
    "    response = llm(prompt)\n",
    "    print(\"date_time:\",response)\n",
    "    response = response.strip().split(\" \")\n",
    "    return response[0], response[1], response[2]"
   ]
  },
  {
   "cell_type": "markdown",
   "metadata": {},
   "source": [
    "------"
   ]
  },
  {
   "cell_type": "markdown",
   "metadata": {},
   "source": [
    "This function prompts for an event type (add, delete, shift, or check appointment) based on the input text and returns the event type."
   ]
  },
  {
   "cell_type": "code",
   "execution_count": 5,
   "metadata": {},
   "outputs": [],
   "source": [
    "def get_event(text,llm):\n",
    "    prompt = f\"Get the event type in all lowercase. Events can be 'add appointment', 'delete appointment', 'shift appointment' or 'check appointment'. Return only the answer with no conversation. For reference, a sample answer is 'add'. The text is: {text}\"\n",
    "    response = llm(prompt)\n",
    "    print(\"event:\",response)\n",
    "    return response"
   ]
  },
  {
   "cell_type": "markdown",
   "metadata": {},
   "source": [
    "----"
   ]
  },
  {
   "cell_type": "markdown",
   "metadata": {},
   "source": [
    "This function prompts for the name of the person who wants an appointment based on the input text and returns the name."
   ]
  },
  {
   "cell_type": "code",
   "execution_count": 6,
   "metadata": {},
   "outputs": [],
   "source": [
    "def get_name(text,llm):\n",
    "    prompt = f\"Respond with the name of the person who wants and appointment according to the text: {text}. Answer without any conversation.\"\n",
    "    response = llm(prompt)\n",
    "    print(\"name:\",response)\n",
    "    return response"
   ]
  },
  {
   "cell_type": "markdown",
   "metadata": {},
   "source": [
    "---"
   ]
  },
  {
   "cell_type": "markdown",
   "metadata": {},
   "source": [
    "This code imports necessary modules from the gcsa library for Google Calendar integration, imports the `datetime` module, sets the path to Google API credentials, and initializes a GoogleCalendar object with specific calendar ID and credentials path, enabling access to a Google Calendar."
   ]
  },
  {
   "cell_type": "code",
   "execution_count": 7,
   "metadata": {},
   "outputs": [],
   "source": [
    "from gcsa.event import Event\n",
    "from gcsa.google_calendar import GoogleCalendar\n",
    "from beautiful_date import hours\n",
    "from datetime import datetime\n",
    "\n",
    "credential_path=\".credentials/credentials.json\"\n",
    "calendar = GoogleCalendar(\"1df9a64aaf07fec4a4769ffe32aa5bf54a8543b3eb2ab82fd683f3942282a5e2@group.calendar.google.com\",credentials_path=credential_path, save_token=True)"
   ]
  },
  {
   "cell_type": "markdown",
   "metadata": {},
   "source": [
    "---"
   ]
  },
  {
   "cell_type": "markdown",
   "metadata": {},
   "source": [
    "This function attempts to check for an event at a specified date and start time within a Google Calendar. If successful, it returns the event; otherwise, it returns False. If there's an error, it prints \"ERROR: Wrong info for check\"."
   ]
  },
  {
   "cell_type": "code",
   "execution_count": 15,
   "metadata": {},
   "outputs": [],
   "source": [
    "def check_event(datei, start_time):\n",
    "    try:\n",
    "        datei=datei.strip().split(\"-\")\n",
    "        year, month, day = int(datei[0]), int(datei[1]), int(datei[2])\n",
    "\n",
    "        start_time=start_time.strip().split(\":\")\n",
    "        hr, minute = int(start_time[0]), int(start_time[1])\n",
    "\n",
    "        start = datetime(year=year, month=month, day=day, hour=hr, minute=minute)\n",
    "        end = start + 1 * hours\n",
    "\n",
    "        events = list(calendar.get_events(time_min=start, time_max=end))\n",
    "\n",
    "        if len(events)>0:\n",
    "            print(\"Event present\")\n",
    "            return events[0]\n",
    "        print(\"Event absent\")\n",
    "        return False\n",
    "    \n",
    "    except:\n",
    "        print(\"ERROR: Wrong info for check\")"
   ]
  },
  {
   "cell_type": "markdown",
   "metadata": {},
   "source": [
    "---"
   ]
  },
  {
   "cell_type": "markdown",
   "metadata": {},
   "source": [
    "This function attempts to add an event to the Google Calendar for a specified date, start time, and name. It first checks if there's any conflicting event using the `check_event` function. If there's no conflict, it creates a new event object and adds it to the calendar; otherwise, it prints \"Time slot already taken\". If there's an error, it prints \"ERROR: Wrong info for adding\"."
   ]
  },
  {
   "cell_type": "code",
   "execution_count": 16,
   "metadata": {},
   "outputs": [],
   "source": [
    "def add_event_cal(datei,start_time, Name):\n",
    "    try:\n",
    "        event=check_event(datei,start_time)\n",
    "        if event==False:\n",
    "            datei=datei.strip().split(\"-\")\n",
    "            year, month, day = int(datei[0]), int(datei[1]), int(datei[2])\n",
    "            start_time=start_time.strip().split(\":\")\n",
    "            hr, minute = int(start_time[0]), int(start_time[1])\n",
    "            start = datetime(year=year, month=month, day=day, hour=hr, minute=minute)\n",
    "            end = start + 1 * hours\n",
    "            event = Event(Name,\n",
    "                        start=start,\n",
    "                        end=end)\n",
    "            calendar.add_event(event)\n",
    "            print(\"Event added\")\n",
    "        else:\n",
    "            print(\"Time slot already taken\")\n",
    "    except:\n",
    "        print(\"ERROR: Wrong info for adding\")\n",
    "        return"
   ]
  },
  {
   "cell_type": "markdown",
   "metadata": {},
   "source": [
    "---"
   ]
  },
  {
   "cell_type": "markdown",
   "metadata": {},
   "source": [
    "This function attempts to delete an event from the Google Calendar for a specified date and start time. It first checks if there's an event at the given date and time using the `check_event` function. If there's no event, it prints \"No Event to Delete\". Otherwise, it deletes the event from the calendar. If there's an error, it prints \"ERROR: Wrong info for delete\"."
   ]
  },
  {
   "cell_type": "code",
   "execution_count": 17,
   "metadata": {},
   "outputs": [],
   "source": [
    "def delete_event_cal(datei,start_time):\n",
    "    try:\n",
    "        event = check_event(datei,start_time)\n",
    "        if event==False:\n",
    "            print(\"No Event to Delete\")\n",
    "            return\n",
    "        else:\n",
    "            calendar.delete_event(event)\n",
    "            print(\"Event deleted\")\n",
    "    except:\n",
    "        print(\"ERROR: Wrong info for delete\")"
   ]
  },
  {
   "cell_type": "markdown",
   "metadata": {},
   "source": [
    "---"
   ]
  },
  {
   "cell_type": "markdown",
   "metadata": {},
   "source": [
    "This function attempts to shift the timing of an event in the Google Calendar from an old time to a new time on a specified date. It first checks if there's an event at the old time using the `check_event` function. If there is, it updates the event's start and end times with the new time and updates the event in the calendar using `calendar.update_event(event)`. If there's no event at the old time, it prints \"No event to Reschedule\". If there's an error, it prints \"ERROR: Wrong info for shifting\"."
   ]
  },
  {
   "cell_type": "code",
   "execution_count": 18,
   "metadata": {},
   "outputs": [],
   "source": [
    "def shift_event_cal(datei, old_time, new_time):\n",
    "    try:\n",
    "        event = check_event(datei, old_time)\n",
    "        print(event)\n",
    "        if event!=False:\n",
    "            datei=datei.strip().split(\"-\")\n",
    "            year, month, day = int(datei[0]), int(datei[1]), int(datei[2])\n",
    "\n",
    "            new_time=new_time.strip().split(\":\")\n",
    "            hr, minute = int(new_time[0]), int(new_time[1])\n",
    "            start = datetime(year=year, month=month, day=day, hour=hr, minute=minute)\n",
    "            end = start + 1 * hours\n",
    "\n",
    "            event.start=start\n",
    "            event.end=end\n",
    "\n",
    "            calendar.update_event(event)\n",
    "            print(\"Event Updated\")\n",
    "        else:\n",
    "            print(\"No event to Reschedule\")\n",
    "        \n",
    "    except:\n",
    "        print(\"ERROR: Wrong info for shifting\")"
   ]
  },
  {
   "cell_type": "markdown",
   "metadata": {},
   "source": [
    "---"
   ]
  },
  {
   "cell_type": "markdown",
   "metadata": {},
   "source": [
    "This function attempts to modify events based on the provided text input. It extracts the date, old time, and new time using the `get_date_time` function, determines the event type using the `get_event` function, and processes the modification accordingly. If the event type is 'add', it prompts for the name and adds the event; if 'delete', it deletes the event; if 'shift', it shifts the event timing; if 'check', it checks for an event. If there's an error during the process, it prints \"Error\"."
   ]
  },
  {
   "cell_type": "code",
   "execution_count": 12,
   "metadata": {},
   "outputs": [],
   "source": [
    "def modify(text):\n",
    "    try:\n",
    "        date, old_time, new_time = get_date_time(text,llm)\n",
    "        event = get_event(text,llm)\n",
    "\n",
    "        if event=='add':\n",
    "            name = get_name(text,llm)\n",
    "            if new_time=='-1':\n",
    "                new_time==old_time\n",
    "            add_event_cal(date ,new_time, name)\n",
    "        elif event=='delete':\n",
    "            if new_time=='-1':\n",
    "                new_time==old_time\n",
    "            delete_event_cal(date, new_time)\n",
    "        elif event=='shift':\n",
    "            shift_event_cal(date, old_time, new_time)\n",
    "        elif event=='check':\n",
    "            if new_time=='-1':\n",
    "                new_time==old_time\n",
    "            check_event(date, new_time)\n",
    "        else:\n",
    "            print(\"Error: Event not found\")\n",
    "            return\n",
    "    except:\n",
    "        print(\"Error\")"
   ]
  },
  {
   "cell_type": "markdown",
   "metadata": {},
   "source": [
    "Trial Run Example of the code:\n",
    "\n",
    "This function aims to delete a 3 PM appointment. It does so by extracting the date, old time, and new time from the input text using the `get_date_time` function. Then, it determines the event type, which is 'delete' in this case, using the `get_event` function. Finally, it attempts to delete the event with the specified time. If there's any error during this process, it prints \"Error\"."
   ]
  },
  {
   "cell_type": "code",
   "execution_count": 13,
   "metadata": {},
   "outputs": [
    {
     "name": "stderr",
     "output_type": "stream",
     "text": [
      "C:\\Users\\shrey\\AppData\\Local\\Packages\\PythonSoftwareFoundation.Python.3.9_qbz5n2kfra8p0\\LocalCache\\local-packages\\Python39\\site-packages\\langchain_core\\_api\\deprecation.py:119: LangChainDeprecationWarning: The method `BaseLLM.__call__` was deprecated in langchain-core 0.1.7 and will be removed in 0.2.0. Use invoke instead.\n",
      "  warn_deprecated(\n"
     ]
    },
    {
     "name": "stdout",
     "output_type": "stream",
     "text": [
      "date_time: 2024-04-28 15:00 15:00\n",
      "event: delete\n",
      "No Event to Delete\n"
     ]
    }
   ],
   "source": [
    "modify(\"delete 3pm appointment\")"
   ]
  },
  {
   "cell_type": "markdown",
   "metadata": {},
   "source": [
    "---"
   ]
  },
  {
   "cell_type": "markdown",
   "metadata": {},
   "source": [
    "TRY IT YOURSELF!"
   ]
  },
  {
   "cell_type": "code",
   "execution_count": null,
   "metadata": {},
   "outputs": [],
   "source": [
    "text = input()\n",
    "modify(text)"
   ]
  }
 ],
 "metadata": {
  "kernelspec": {
   "display_name": "Python 3",
   "language": "python",
   "name": "python3"
  },
  "language_info": {
   "codemirror_mode": {
    "name": "ipython",
    "version": 3
   },
   "file_extension": ".py",
   "mimetype": "text/x-python",
   "name": "python",
   "nbconvert_exporter": "python",
   "pygments_lexer": "ipython3",
   "version": "3.9.13"
  }
 },
 "nbformat": 4,
 "nbformat_minor": 2
}
